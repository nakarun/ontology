{
 "cells": [
  {
   "cell_type": "code",
   "execution_count": null,
   "metadata": {
    "collapsed": true
   },
   "outputs": [],
   "source": []
  },
  {
   "cell_type": "code",
   "execution_count": 122,
   "metadata": {
    "collapsed": true
   },
   "outputs": [],
   "source": [
    "from rdflib import Graph\n",
    "from rdflib import URIRef, Literal, BNode, RDFS, RDF"
   ]
  },
  {
   "cell_type": "code",
   "execution_count": 123,
   "metadata": {
    "collapsed": true
   },
   "outputs": [],
   "source": [
    "from rdflib.namespace import SKOS"
   ]
  },
  {
   "cell_type": "code",
   "execution_count": 124,
   "metadata": {
    "collapsed": true
   },
   "outputs": [],
   "source": [
    "n=0"
   ]
  },
  {
   "cell_type": "code",
   "execution_count": 125,
   "metadata": {
    "collapsed": true
   },
   "outputs": [],
   "source": [
    "g = Graph()"
   ]
  },
  {
   "cell_type": "markdown",
   "metadata": {},
   "source": [
    "### 野球場"
   ]
  },
  {
   "cell_type": "code",
   "execution_count": 126,
   "metadata": {
    "collapsed": true
   },
   "outputs": [],
   "source": [
    "items = [\"野田村総合運動公園野球場\"]"
   ]
  },
  {
   "cell_type": "code",
   "execution_count": 127,
   "metadata": {
    "collapsed": false
   },
   "outputs": [],
   "source": [
    "for item in items:\n",
    "    a = URIRef(\"http://example.org/Class/野球場\")\n",
    "    b = RDF.type\n",
    "    c = BNode('{}'.format(n))\n",
    "    d = RDFS.label\n",
    "    e = Literal('{}'.format(item))\n",
    "    n+=1\n",
    "    g.add((a, b, c))\n",
    "    g.add((c,d,e))"
   ]
  },
  {
   "cell_type": "markdown",
   "metadata": {},
   "source": [
    "### 病院"
   ]
  },
  {
   "cell_type": "code",
   "execution_count": 128,
   "metadata": {
    "collapsed": true
   },
   "outputs": [],
   "source": [
    "items = [\"岩手県立高田病院\",\"久慈恵愛病院\",\"岩手県立山田病院\"]"
   ]
  },
  {
   "cell_type": "code",
   "execution_count": 129,
   "metadata": {
    "collapsed": false
   },
   "outputs": [],
   "source": [
    "for item in items:\n",
    "    a = URIRef(\"http://example.org/Class/病院\")\n",
    "    b = RDF.type\n",
    "    c = BNode('{}'.format(n))\n",
    "    d = RDFS.label\n",
    "    e = Literal('{}'.format(item))\n",
    "    n+=1\n",
    "    g.add((a, b, c))\n",
    "    g.add((c,d,e))"
   ]
  },
  {
   "cell_type": "markdown",
   "metadata": {},
   "source": [
    "### 駅"
   ]
  },
  {
   "cell_type": "code",
   "execution_count": 130,
   "metadata": {
    "collapsed": true
   },
   "outputs": [],
   "source": [
    "items = [\"夏井駅\",\"玉川駅\",\"野田玉川駅\",\"野田駅\",\"久慈駅\"]"
   ]
  },
  {
   "cell_type": "code",
   "execution_count": 131,
   "metadata": {
    "collapsed": false
   },
   "outputs": [],
   "source": [
    "for item in items:\n",
    "    a = URIRef(\"http://example.org/Class/駅\")\n",
    "    b = RDF.type\n",
    "    c = BNode('{}'.format(n))\n",
    "    d = RDFS.label\n",
    "    e = Literal('{}'.format(item))\n",
    "    n+=1\n",
    "    g.add((a, b, c))\n",
    "    g.add((c,d,e))"
   ]
  },
  {
   "cell_type": "markdown",
   "metadata": {},
   "source": [
    "### 銀行"
   ]
  },
  {
   "cell_type": "code",
   "execution_count": 132,
   "metadata": {
    "collapsed": true
   },
   "outputs": [],
   "source": [
    "items = [\"北日本銀行\",\"岩手銀行\"]"
   ]
  },
  {
   "cell_type": "code",
   "execution_count": 133,
   "metadata": {
    "collapsed": true
   },
   "outputs": [],
   "source": [
    "for item in items:\n",
    "    a = URIRef(\"http://example.org/Class/銀行\")\n",
    "    b = RDF.type\n",
    "    c = BNode('{}'.format(n))\n",
    "    d = RDFS.label\n",
    "    e = Literal('{}'.format(item))\n",
    "    n+=1\n",
    "    g.add((a, b, c))\n",
    "    g.add((c,d,e))"
   ]
  },
  {
   "cell_type": "markdown",
   "metadata": {},
   "source": [
    "### 協会"
   ]
  },
  {
   "cell_type": "code",
   "execution_count": 134,
   "metadata": {
    "collapsed": true
   },
   "outputs": [],
   "source": [
    "items = [\"日本水道協会\",\"体育協会\",\"全国さく井協会\"]"
   ]
  },
  {
   "cell_type": "code",
   "execution_count": 135,
   "metadata": {
    "collapsed": true
   },
   "outputs": [],
   "source": [
    "for item in items:\n",
    "    a = URIRef(\"http://example.org/Class/協会\")\n",
    "    b = RDF.type\n",
    "    c = BNode('{}'.format(n))\n",
    "    d = RDFS.label\n",
    "    e = Literal('{}'.format(item))\n",
    "    n+=1\n",
    "    g.add((a, b, c))\n",
    "    g.add((c,d,e))"
   ]
  },
  {
   "cell_type": "markdown",
   "metadata": {},
   "source": [
    "### 学校"
   ]
  },
  {
   "cell_type": "code",
   "execution_count": 136,
   "metadata": {
    "collapsed": false
   },
   "outputs": [],
   "source": [
    "a = URIRef(\"http://example.org/Class/学校\")\n",
    "b = SKOS.narrower\n",
    "c = URIRef(\"http://example.org/Class/幼稚園\")\n",
    "d = URIRef(\"http://example.org/Class/小学校\")\n",
    "e = URIRef(\"http://example.org/Class/中学校\")\n",
    "f = URIRef(\"http://example.org/Class/高等学校\")\n",
    "h = URIRef(\"http://example.org/Class/大学\")\n",
    "g.add((a,b,c))\n",
    "g.add((a,b,d))\n",
    "g.add((a,b,e))\n",
    "g.add((a,b,f))\n",
    "g.add((a,b,h))"
   ]
  },
  {
   "cell_type": "code",
   "execution_count": 137,
   "metadata": {
    "collapsed": true
   },
   "outputs": [],
   "source": [
    "items = [\"久慈小学校\",[\"堀内小学校\",\"旧堀内小学校\"],\"普代小学校\",[\"野田小学校\",\"野田村立野田小学校\"],\"豊田小学校\",\"湊小学校\"]"
   ]
  },
  {
   "cell_type": "code",
   "execution_count": 138,
   "metadata": {
    "collapsed": true
   },
   "outputs": [],
   "source": [
    "for item in items:\n",
    "    a = URIRef(\"http://example.org/Class/小学校\")\n",
    "    b = RDF.type\n",
    "    c = BNode('{}'.format(n))\n",
    "    d = RDFS.label\n",
    "    e = Literal('{}'.format(item))\n",
    "    n+=1\n",
    "    g.add((a, b, c))\n",
    "    g.add((c,d,e))"
   ]
  },
  {
   "cell_type": "code",
   "execution_count": 139,
   "metadata": {
    "collapsed": true
   },
   "outputs": [],
   "source": [
    "items = [\"浅川中学校\",\"野田中学校\",[\"長内中学校\",\"旧長内中学校\"],\"久慈中学校\"]"
   ]
  },
  {
   "cell_type": "code",
   "execution_count": 140,
   "metadata": {
    "collapsed": true
   },
   "outputs": [],
   "source": [
    "for item in items:\n",
    "    a = URIRef(\"http://example.org/Class/中学校\")\n",
    "    b = RDF.type\n",
    "    c = BNode('{}'.format(n))\n",
    "    d = RDFS.label\n",
    "    e = Literal('{}'.format(item))\n",
    "    n+=1\n",
    "    g.add((a, b, c))\n",
    "    g.add((c,d,e))"
   ]
  },
  {
   "cell_type": "code",
   "execution_count": 141,
   "metadata": {
    "collapsed": true
   },
   "outputs": [],
   "source": [
    "items = [\"杜陵高等学校\",\"久慈工業高等学校\",\"久慈高校\"]"
   ]
  },
  {
   "cell_type": "code",
   "execution_count": 142,
   "metadata": {
    "collapsed": true
   },
   "outputs": [],
   "source": [
    "for item in items:\n",
    "    a = URIRef(\"http://example.org/Class/高等学校\")\n",
    "    b = RDF.type\n",
    "    c = BNode('{}'.format(n))\n",
    "    d = RDFS.label\n",
    "    e = Literal('{}'.format(item))\n",
    "    n+=1\n",
    "    g.add((a, b, c))\n",
    "    g.add((c,d,e))"
   ]
  },
  {
   "cell_type": "code",
   "execution_count": 143,
   "metadata": {
    "collapsed": true
   },
   "outputs": [],
   "source": [
    "items = [\"岩手県立大学\",\"放送大学\",\"岩手大学\"]"
   ]
  },
  {
   "cell_type": "code",
   "execution_count": 144,
   "metadata": {
    "collapsed": true
   },
   "outputs": [],
   "source": [
    "for item in items:\n",
    "    a = URIRef(\"http://example.org/Class/大学\")\n",
    "    b = RDF.type\n",
    "    c = BNode('{}'.format(n))\n",
    "    d = RDFS.label\n",
    "    e = Literal('{}'.format(item))\n",
    "    n+=1\n",
    "    g.add((a, b, c))\n",
    "    g.add((c,d,e))"
   ]
  },
  {
   "cell_type": "markdown",
   "metadata": {},
   "source": [
    "### 株式会社"
   ]
  },
  {
   "cell_type": "code",
   "execution_count": 145,
   "metadata": {
    "collapsed": true
   },
   "outputs": [],
   "source": [
    "items = [\"東京電力株式会社\",\"出光興産株式会社\",\"北日本造船株式会社\",\"アサヒビール株式会社\",\"スギホールディングス株式会社\",\"福島工業株式会社\",\"株式会社小山\",\"東北電力株式会社\"]"
   ]
  },
  {
   "cell_type": "code",
   "execution_count": 146,
   "metadata": {
    "collapsed": true
   },
   "outputs": [],
   "source": [
    "for item in items:\n",
    "    a = URIRef(\"http://example.org/Class/株式会社\")\n",
    "    b = RDF.type\n",
    "    c = BNode('{}'.format(n))\n",
    "    d = RDFS.label\n",
    "    e = Literal('{}'.format(item))\n",
    "    n+=1\n",
    "    g.add((a, b, c))\n",
    "    g.add((c,d,e))"
   ]
  },
  {
   "cell_type": "markdown",
   "metadata": {},
   "source": [
    "### 本部"
   ]
  },
  {
   "cell_type": "code",
   "execution_count": 149,
   "metadata": {
    "collapsed": true
   },
   "outputs": [],
   "source": [
    "a = URIRef(\"http://example.org/Class/本部\")\n",
    "b = SKOS.narrower\n",
    "c = URIRef(\"http://example.org/Class/連絡本部\")\n",
    "d = URIRef(\"http://example.org/Class/対策本部\")\n",
    "g.add((a,b,c))\n",
    "g.add((a,b,d))"
   ]
  },
  {
   "cell_type": "code",
   "execution_count": 150,
   "metadata": {
    "collapsed": true
   },
   "outputs": [],
   "source": [
    "a = URIRef(\"http://example.org/Class/対策本部\")\n",
    "b = SKOS.narrower\n",
    "c = URIRef(\"http://example.org/Class/復興対策本部\")\n",
    "d = URIRef(\"http://example.org/Class/災害対策本部\")\n",
    "g.add((a,b,c))\n",
    "g.add((a,b,d))"
   ]
  },
  {
   "cell_type": "code",
   "execution_count": 151,
   "metadata": {
    "collapsed": true
   },
   "outputs": [],
   "source": [
    "items = [\"岩手県議会議員連絡本部\"]"
   ]
  },
  {
   "cell_type": "code",
   "execution_count": 152,
   "metadata": {
    "collapsed": true
   },
   "outputs": [],
   "source": [
    "for item in items:\n",
    "    a = URIRef(\"http://example.org/Class/連絡本部\")\n",
    "    b = RDF.type\n",
    "    c = BNode('{}'.format(n))\n",
    "    d = RDFS.label\n",
    "    e = Literal('{}'.format(item))\n",
    "    n+=1\n",
    "    g.add((a, b, c))\n",
    "    g.add((c,d,e))"
   ]
  },
  {
   "cell_type": "code",
   "execution_count": 153,
   "metadata": {
    "collapsed": true
   },
   "outputs": [],
   "source": [
    "items = [\"普代村災対本部\",\"原発放射線影響対策本部\"]"
   ]
  },
  {
   "cell_type": "code",
   "execution_count": 154,
   "metadata": {
    "collapsed": true
   },
   "outputs": [],
   "source": [
    "for item in items:\n",
    "    a = URIRef(\"http://example.org/Class/災害対策本部\")\n",
    "    b = RDF.type\n",
    "    c = BNode('{}'.format(n))\n",
    "    d = RDFS.label\n",
    "    e = Literal('{}'.format(item))\n",
    "    n+=1\n",
    "    g.add((a, b, c))\n",
    "    g.add((c,d,e))"
   ]
  },
  {
   "cell_type": "code",
   "execution_count": null,
   "metadata": {
    "collapsed": true
   },
   "outputs": [],
   "source": [
    "for item in items:\n",
    "    a = URIRef(\"http://example.org/Class/復興対策本部\")\n",
    "    b = RDF.type\n",
    "    c = BNode('{}'.format(n))\n",
    "    d = RDFS.label\n",
    "    e = Literal('{}'.format(item))\n",
    "    n+=1\n",
    "    g.add((a, b, c))\n",
    "    g.add((c,d,e))"
   ]
  },
  {
   "cell_type": "markdown",
   "metadata": {},
   "source": [
    "### Turtle"
   ]
  },
  {
   "cell_type": "code",
   "execution_count": 155,
   "metadata": {
    "collapsed": false,
    "scrolled": false
   },
   "outputs": [
    {
     "name": "stdout",
     "output_type": "stream",
     "text": [
      "@prefix ns1: <http://www.w3.org/2004/02/skos/core#> .\n",
      "@prefix rdf: <http://www.w3.org/1999/02/22-rdf-syntax-ns#> .\n",
      "@prefix rdfs: <http://www.w3.org/2000/01/rdf-schema#> .\n",
      "@prefix xml: <http://www.w3.org/XML/1998/namespace> .\n",
      "@prefix xsd: <http://www.w3.org/2001/XMLSchema#> .\n",
      "\n",
      "<http://example.org/Class/協会> a [ rdfs:label \"日本水道協会\" ],\n",
      "        [ rdfs:label \"体育協会\" ],\n",
      "        [ rdfs:label \"全国さく井協会\" ] .\n",
      "\n",
      "<http://example.org/Class/学校> ns1:narrower <http://example.org/Class/中学校>,\n",
      "        <http://example.org/Class/大学>,\n",
      "        <http://example.org/Class/小学校>,\n",
      "        <http://example.org/Class/幼稚園>,\n",
      "        <http://example.org/Class/高等学校> .\n",
      "\n",
      "<http://example.org/Class/本部> ns1:narrower <http://example.org/Class/対策本部>,\n",
      "        <http://example.org/Class/連絡本部> .\n",
      "\n",
      "<http://example.org/Class/株式会社> a [ rdfs:label \"東京電力株式会社\" ],\n",
      "        [ rdfs:label \"出光興産株式会社\" ],\n",
      "        [ rdfs:label \"北日本造船株式会社\" ],\n",
      "        [ rdfs:label \"アサヒビール株式会社\" ],\n",
      "        [ rdfs:label \"スギホールディングス株式会社\" ],\n",
      "        [ rdfs:label \"福島工業株式会社\" ],\n",
      "        [ rdfs:label \"株式会社小山\" ],\n",
      "        [ rdfs:label \"東北電力株式会社\" ] .\n",
      "\n",
      "<http://example.org/Class/病院> a [ rdfs:label \"岩手県立高田病院\" ],\n",
      "        [ rdfs:label \"久慈恵愛病院\" ],\n",
      "        [ rdfs:label \"岩手県立山田病院\" ] .\n",
      "\n",
      "<http://example.org/Class/野球場> a [ rdfs:label \"野田村総合運動公園野球場\" ] .\n",
      "\n",
      "<http://example.org/Class/銀行> a [ rdfs:label \"岩手銀行\" ],\n",
      "        [ rdfs:label \"北日本銀行\" ] .\n",
      "\n",
      "<http://example.org/Class/駅> a [ rdfs:label \"夏井駅\" ],\n",
      "        [ rdfs:label \"玉川駅\" ],\n",
      "        [ rdfs:label \"野田玉川駅\" ],\n",
      "        [ rdfs:label \"野田駅\" ],\n",
      "        [ rdfs:label \"久慈駅\" ] .\n",
      "\n",
      "<http://example.org/Class/中学校> a [ rdfs:label \"浅川中学校\" ],\n",
      "        [ rdfs:label \"野田中学校\" ],\n",
      "        [ rdfs:label \"['長内中学校', '旧長内中学校']\" ],\n",
      "        [ rdfs:label \"久慈中学校\" ] .\n",
      "\n",
      "<http://example.org/Class/大学> a [ rdfs:label \"岩手県立大学\" ],\n",
      "        [ rdfs:label \"放送大学\" ],\n",
      "        [ rdfs:label \"岩手大学\" ] .\n",
      "\n",
      "<http://example.org/Class/対策本部> ns1:narrower <http://example.org/Class/復興対策本部>,\n",
      "        <http://example.org/Class/災害対策本部> .\n",
      "\n",
      "<http://example.org/Class/小学校> a [ rdfs:label \"久慈小学校\" ],\n",
      "        [ rdfs:label \"['堀内小学校', '旧堀内小学校']\" ],\n",
      "        [ rdfs:label \"普代小学校\" ],\n",
      "        [ rdfs:label \"['野田小学校', '野田村立野田小学校']\" ],\n",
      "        [ rdfs:label \"豊田小学校\" ],\n",
      "        [ rdfs:label \"湊小学校\" ] .\n",
      "\n",
      "<http://example.org/Class/災害対策本部> a [ rdfs:label \"普代村災対本部\" ],\n",
      "        [ rdfs:label \"原発放射線影響対策本部\" ] .\n",
      "\n",
      "<http://example.org/Class/連絡本部> a [ rdfs:label \"岩手県議会議員連絡本部\" ] .\n",
      "\n",
      "<http://example.org/Class/高等学校> a [ rdfs:label \"杜陵高等学校\" ],\n",
      "        [ rdfs:label \"久慈工業高等学校\" ],\n",
      "        [ rdfs:label \"久慈高校\" ] .\n",
      "\n",
      "\n"
     ]
    }
   ],
   "source": [
    "print(g.serialize(format='turtle').decode('utf-8'))"
   ]
  },
  {
   "cell_type": "markdown",
   "metadata": {},
   "source": [
    "### ファイルとして保存"
   ]
  },
  {
   "cell_type": "code",
   "execution_count": null,
   "metadata": {
    "collapsed": true
   },
   "outputs": [],
   "source": [
    "str_ttl = g.serialize(format='turtle').decode('utf-8')\n",
    "f = open('ontology'.format(archive), 'w')\n",
    "f.write(str_ttl)\n",
    "f.close()"
   ]
  },
  {
   "cell_type": "code",
   "execution_count": null,
   "metadata": {
    "collapsed": true
   },
   "outputs": [],
   "source": []
  },
  {
   "cell_type": "code",
   "execution_count": null,
   "metadata": {
    "collapsed": true
   },
   "outputs": [],
   "source": []
  }
 ],
 "metadata": {
  "kernelspec": {
   "display_name": "Python 3",
   "language": "python",
   "name": "python3"
  },
  "language_info": {
   "codemirror_mode": {
    "name": "ipython",
    "version": 3
   },
   "file_extension": ".py",
   "mimetype": "text/x-python",
   "name": "python",
   "nbconvert_exporter": "python",
   "pygments_lexer": "ipython3",
   "version": "3.5.1"
  }
 },
 "nbformat": 4,
 "nbformat_minor": 0
}
