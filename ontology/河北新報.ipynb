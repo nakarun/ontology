{
 "cells": [
  {
   "cell_type": "code",
   "execution_count": null,
   "metadata": {
    "collapsed": true
   },
   "outputs": [],
   "source": []
  },
  {
   "cell_type": "code",
   "execution_count": 1,
   "metadata": {
    "collapsed": true
   },
   "outputs": [],
   "source": [
    "from rdflib import Graph\n",
    "from rdflib import URIRef, Literal, BNode, RDFS, RDF"
   ]
  },
  {
   "cell_type": "code",
   "execution_count": 2,
   "metadata": {
    "collapsed": true
   },
   "outputs": [],
   "source": [
    "from rdflib.namespace import SKOS"
   ]
  },
  {
   "cell_type": "code",
   "execution_count": 109,
   "metadata": {
    "collapsed": true
   },
   "outputs": [],
   "source": [
    "n=0"
   ]
  },
  {
   "cell_type": "code",
   "execution_count": 110,
   "metadata": {
    "collapsed": true
   },
   "outputs": [],
   "source": [
    "g = Graph()"
   ]
  },
  {
   "cell_type": "markdown",
   "metadata": {},
   "source": [
    "### 駅"
   ]
  },
  {
   "cell_type": "code",
   "execution_count": 23,
   "metadata": {
    "collapsed": true
   },
   "outputs": [],
   "source": [
    "items = [[\"白石蔵王駅\"],[\"万石浦駅\"],[\"釜石駅\"],[\"野蒜駅\"],[\"仙台駅\"],[\"大船渡駅\"],[\"気仙沼駅\",\"JR気仙沼駅\"],\n",
    "         [\"南気仙沼駅\",\"JR南気仙沼駅\"],[\"中野栄駅\"],[\"白石駅\"],[\"仙台港駅\"],[\"仙台空港駅\"],[\"浜吉田駅\"],[\"田老駅\"],[\"盛駅\"],[\"多賀城駅\"],\n",
    "         [\"女川駅\",\"JR女川駅\",\"JR石巻線女川駅\",\"石巻線女川駅\"],[\"山下駅\",\"JR常磐線山下駅\",\"JR常磐線山下駅\"],[\"石巻駅\",\"JR石巻駅\"],\n",
    "         [\"蔵内駅\"],[\"渡波駅\"],[\"新地駅\"],[\"泉中央駅\"],[\"鹿折唐桑駅\",\"JR気仙沼線鹿折唐桑駅\",\"JR鹿折唐桑駅\"],[\"大船渡線鹿折唐桑駅\",\"鹿折唐桑駅\"],\n",
    "         [\"亘理駅\"],[\"名取駅\"],[\"塩釜駅\"],[\"本塩釜駅\"],[\"東塩釜駅\"],[\"坂元駅\",\"JR坂元駅\"],[\"小高駅\"],[\"陸前港駅\"],[\"松岩駅\"],[\"歌津駅\",\"JR歌津駅\"],[\"志津川駅\"],\n",
    "         [\"最知駅\",\"気仙沼線最知駅\",\"JR気仙沼線最知駅\"],[\"西港駅\",\"仙台西港駅\"],[\" 陸前階上駅\"],[\"大谷海岸駅\",\"気仙沼線大谷海岸駅\",\"JR大谷海岸駅\"],\n",
    "         [\"清水浜駅\"],[\"水戸駅\"],[\"三陸鉄道盛(さかり)駅\",\"盛駅\"],[\"竹駒駅\"],[\"陸前原ノ町駅\"],[\"相馬駅\"],[\"榴ヶ岡駅\"],[\"小金沢駅\"],[\"小鶴新田駅\"],[\"不動の沢駅\"],[\"長町駅\",\"JR長町駅\"],\n",
    "         [\"陸中山田駅\"],[\"本吉駅\"],[\"八千代緑が丘駅\"],[\"陸前戸倉駅\",\"JR気仙沼線陸前戸倉駅\"],[\"陸前小泉駅\"]]"
   ]
  },
  {
   "cell_type": "code",
   "execution_count": 24,
   "metadata": {
    "collapsed": false,
    "scrolled": true
   },
   "outputs": [],
   "source": [
    "a = URIRef(\"http://example.org/Class/駅\")\n",
    "b = RDF.type\n",
    "for item in items:\n",
    "    c = BNode('{}'.format(n))\n",
    "    g.add((a, b, c))\n",
    "    d = RDFS.label\n",
    "    for i in item:\n",
    "        e = Literal('{}'.format(i))\n",
    "        g.add((c,d,e))\n",
    "    n+=1"
   ]
  },
  {
   "cell_type": "markdown",
   "metadata": {},
   "source": [
    "### 病院"
   ]
  },
  {
   "cell_type": "code",
   "execution_count": 35,
   "metadata": {
    "collapsed": true
   },
   "outputs": [],
   "source": [
    "items = [[\"東北大学病院\"],[\"南浜中央病院\"],[\"県立高田病院\",\"岩手県立高田病院\"],[\"石巻私立病院\"],[\"気仙沼市立病院\"],\n",
    "         [\"石巻港湾病院\"],[\"女川町立病院\",\"宮城県女川町立病院\"],[\"志津川病院\",\"公立志津川病院\"],[\"県立大槌病院\"],[\"双葉厚生病院\"],[\"猪苗代病院\"],[\"島根県立中央病院\"],[\"愛生会病院\"]]"
   ]
  },
  {
   "cell_type": "code",
   "execution_count": 36,
   "metadata": {
    "collapsed": true
   },
   "outputs": [],
   "source": [
    "a = URIRef(\"http://example.org/Class/病院\")\n",
    "b = RDF.type\n",
    "for item in items:\n",
    "    c = BNode('{}'.format(n))\n",
    "    n+=1\n",
    "    g.add((a, b, c))\n",
    "    d = RDFS.label\n",
    "    for i in item:\n",
    "        e = Literal('{}'.format(i))\n",
    "        g.add((c,d,e))"
   ]
  },
  {
   "cell_type": "markdown",
   "metadata": {},
   "source": [
    "### 銀行"
   ]
  },
  {
   "cell_type": "code",
   "execution_count": 60,
   "metadata": {
    "collapsed": true
   },
   "outputs": [],
   "source": [
    "items = [[\"東北銀行\"],[\"仙台銀行\",[\"仙台銀行気仙沼支店\"]],[\"七十七銀行\",[\"七十七銀行閖上支店\",\"七十七銀行気仙沼支店\"]],[\"北日本銀行\"],[\"みちのく銀行\"],[\"岩手銀行\"],[\"常陽銀行\"]]"
   ]
  },
  {
   "cell_type": "code",
   "execution_count": 61,
   "metadata": {
    "collapsed": false
   },
   "outputs": [
    {
     "name": "stdout",
     "output_type": "stream",
     "text": [
      "yes\n",
      "yes\n"
     ]
    }
   ],
   "source": [
    "a = URIRef(\"http://example.org/Class/銀行\")\n",
    "b = RDF.type\n",
    "for item in items:\n",
    "    c = BNode('{}'.format(n))\n",
    "    g.add((a, b, c))\n",
    "    n+=1\n",
    "    for i in item:\n",
    "        if type(i) is list:\n",
    "            print('yes')\n",
    "            d = SKOS.narrower\n",
    "            for i2 in i:\n",
    "                e = BNode('{}'.format(n))\n",
    "                g.add((c,d,e))\n",
    "                h = RDFS.label\n",
    "                f = Literal('{}'.format(i2))\n",
    "                g.add((e,h,f))\n",
    "                n+=1\n",
    "        else:\n",
    "            d = RDFS.label\n",
    "            e = Literal('{}'.format(i))\n",
    "            g.add((c,d,e))"
   ]
  },
  {
   "cell_type": "markdown",
   "metadata": {},
   "source": [
    "### 学校"
   ]
  },
  {
   "cell_type": "code",
   "execution_count": 68,
   "metadata": {
    "collapsed": true
   },
   "outputs": [],
   "source": [
    "a = URIRef(\"http://example.org/Class/学校\")\n",
    "b = SKOS.narrower\n",
    "c = URIRef(\"http://example.org/Class/幼稚園\")\n",
    "d = URIRef(\"http://example.org/Class/小学校\")\n",
    "e = URIRef(\"http://example.org/Class/中学校\")\n",
    "f = URIRef(\"http://example.org/Class/高等学校\")\n",
    "h = URIRef(\"http://example.org/Class/大学\")\n",
    "g.add((a,b,c))\n",
    "g.add((a,b,d))\n",
    "g.add((a,b,e))\n",
    "g.add((a,b,f))\n",
    "g.add((a,b,h))"
   ]
  },
  {
   "cell_type": "code",
   "execution_count": 69,
   "metadata": {
    "collapsed": true
   },
   "outputs": [],
   "source": [
    "items = [[\"大槌北小学校\"],[\"大川小学校\",\"石巻市立大川小学校\"],[\"岡田小学校\",\"仙台市立岡田小学校\"],[\"亘理町立亘理小学校\"],[\"吉浜小学校\"],[\"面瀬小学校\"],\n",
    "         [\"中野小学校\",\"仙台市立中野小学校\"],[\"気仙沼小学校\",\"気仙沼市立気仙沼小学校\"],[\"山元町立中浜小学校\"],[\"山元町立山下第一小学校\"],[\"塩釜市立浦⼾戸第一小学校\"],\n",
    "         [\"雄勝小学校\"],[\"市立気仙小学校\",\"陸前高田市立気仙小学校\"],[\"小泉小学校\",\"気仙沼市立小泉小学校\"],[\"門脇小学校\",\"石巻市立門脇小学校\"],[\"相川小学校\"],[\"仙台市立南材木町小学校\"],\n",
    "         [\"気仙沼市立唐桑小学校\"],[\"市立沖野小学校\"],[\"湊小学校\",\"石巻市立湊小学校\"],[\"六郷小学校\"],[\"仙台市立西中田小学校\"],[\"木山小学校\"],[\"潮見小学校\"],[\"大島小学校\"],[\"仙台市立福室小学校\"],\n",
    "         [\"岩沼市立玉浦小学校\"],[\"谷川小学校\"],[\"山元町立山下第二小学校\"],[\"湊第二小学校\"],[\"女川第二小学校\"],[\"塩竈市立浦戸第二小学校\"],[\"立町小学校\"],[\"栄小学校\"],[\"仙台市立中野栄小学校\"],\n",
    "         [\"気仙沼市立水梨小学校\"],[\"気仙沼市立鹿折小学校\"],[\"蒲町小学校\"],[\"小原⽊木小学校\"],[\"市立野蒜小学校\",\"東松島市立野蒜小学校\"],[\"船越小学校\",\"石巻市立船越小学校\"],[\"多賀小学校\"],[\"西多賀小学校\"],\n",
    "         [\"八幡小学校\",\"仙台市立八幡小学校\"],[\"名取市立閖上小学校\",\"閖上小学校\"],[\"榴岡小学校\"],[\"野田小学校\"],[\"荒浜小学校\",\"市立荒浜小学校\"],[\"荒浜小学校\",\"亘理町立荒浜小学校\"],[\"石巻市立渡波小学校\"],\n",
    "         [\"大谷小学校\",\"気仙沼市立大谷小学校\"],[\"二葉小学校\"],[\"向陽小学校\",\"石巻市立向陽小学校\"],[\"南三陸町立伊里前小学校\",\"宮城県南三陸町立伊里前小学校\"]]"
   ]
  },
  {
   "cell_type": "code",
   "execution_count": 70,
   "metadata": {
    "collapsed": true
   },
   "outputs": [],
   "source": [
    "a = URIRef(\"http://example.org/Class/小学校\")\n",
    "b = RDF.type\n",
    "for item in items:\n",
    "    c = BNode('{}'.format(n))\n",
    "    n+=1\n",
    "    g.add((a, b, c))\n",
    "    d = RDFS.label\n",
    "    for i in item:\n",
    "        e = Literal('{}'.format(i))\n",
    "        g.add((c,d,e))"
   ]
  },
  {
   "cell_type": "code",
   "execution_count": 72,
   "metadata": {
    "collapsed": true
   },
   "outputs": [],
   "source": [
    "items = [[\"小泉中学校\"],[\"気仙沼市立鹿折中学校\"],[\"仙台市立蒲町中学校\"],[\"野田中学校\"],[\"石巻市立大川中学校\"],[\"多賀中学校\"],[\"大谷中学校\"],\n",
    "        [\"岩沼市立玉浦中学校\"],[\"気仙沼中学校\",\"気仙沼市立気仙沼中学校\"],[\"坂元中学校\"],[\"七郷中学校\"],[\"閖上中学校\"],[\"北上中学校\"],[\"女川第一中学校\",\"町立女川第一中学校\"],\n",
    "        [\"中山中学校\"],[\"仙台市立六郷中学校\"],[\"大須中学校\"],[\"亘理町立荒浜中学校\"],[\"気仙中学校\",\"市立気仙中学校\"],[\"市立田老第一中学校\"],[\"富沢中学校\"],[\"雄勝中学校\",\"石巻市立雄勝中学校\"],\n",
    "        [\"湊中学校\"],[\"鳴瀬第二中学校\"],[\"町立志津川中学校\",\"南三陸町立志津川中学校\"],[\"石巻市立住吉中学校\"],[\"大阪聖母女学院中学校\"],[\"気仙沼市立条南中学校\"],[\"七ヶ浜町立七ヶ浜中学校\"]]"
   ]
  },
  {
   "cell_type": "code",
   "execution_count": 73,
   "metadata": {
    "collapsed": true
   },
   "outputs": [],
   "source": [
    "a = URIRef(\"http://example.org/Class/中学校\")\n",
    "b = RDF.type\n",
    "for item in items:\n",
    "    c = BNode('{}'.format(n))\n",
    "    n+=1\n",
    "    g.add((a, b, c))\n",
    "    d = RDFS.label\n",
    "    for i in item:\n",
    "        e = Literal('{}'.format(i))\n",
    "        g.add((c,d,e))"
   ]
  },
  {
   "cell_type": "code",
   "execution_count": 77,
   "metadata": {
    "collapsed": false
   },
   "outputs": [],
   "source": [
    "items = [[\"宮城県女川高等学校\",\"女川高校\"],[\"宮城県仙台第一高等学校\"],[\"気仙沼女子高等学校\"],[\"城東高校\"],[\"気仙沼高等学校\"],\n",
    "         [\"亘理高等学校\"],[\"大阪聖母女学院高等学校\"],[\"高田高校\",\"県立高田高校\"],[\"石巻商業高校\"],[\"向洋高等学校\",\"気仙沼向洋高校\",\"気仙沼向洋高等学校\"],\n",
    "         [\"志津川高校\",\"宮城県志津川高校\"]]"
   ]
  },
  {
   "cell_type": "code",
   "execution_count": 78,
   "metadata": {
    "collapsed": true
   },
   "outputs": [],
   "source": [
    "a = URIRef(\"http://example.org/Class/高等学校\")\n",
    "b = RDF.type\n",
    "for item in items:\n",
    "    c = BNode('{}'.format(n))\n",
    "    n+=1\n",
    "    g.add((a, b, c))\n",
    "    d = RDFS.label\n",
    "    for i in item:\n",
    "        e = Literal('{}'.format(i))\n",
    "        g.add((c,d,e))"
   ]
  },
  {
   "cell_type": "code",
   "execution_count": 80,
   "metadata": {
    "collapsed": true
   },
   "outputs": [],
   "source": [
    "items = [[\"小泉幼稚園\"],[\"気仙沼カトリック幼稚園\"]]"
   ]
  },
  {
   "cell_type": "code",
   "execution_count": 81,
   "metadata": {
    "collapsed": true
   },
   "outputs": [],
   "source": [
    "a = URIRef(\"http://example.org/Class/幼稚園\")\n",
    "b = RDF.type\n",
    "for item in items:\n",
    "    c = BNode('{}'.format(n))\n",
    "    n+=1\n",
    "    g.add((a, b, c))\n",
    "    d = RDFS.label\n",
    "    for i in item:\n",
    "        e = Literal('{}'.format(i))\n",
    "        g.add((c,d,e))"
   ]
  },
  {
   "cell_type": "code",
   "execution_count": 111,
   "metadata": {
    "collapsed": true
   },
   "outputs": [],
   "source": [
    "items = [[\"東北大学\",[[\"東北大学川内北キャンパス\"],[\"東北大学病院\"],[\"東北大学片平キャンパス\"]]],\n",
    "         [\"東北学院大学\",[[\"東北学院大学災害ボランティア・ステーション\",\"東北学院大学災害ボランティアステーション\"]]],\n",
    "         [\"静岡大学\",[[\"静岡大学ボランティアサークル響\"]]],[\"聖徳大学\"],[\"帝京大学\"],[\"麗澤大学\"],[\"佛教大学\"],\n",
    "         [\"青山学院大学\",[[\"青山学院大学ボランティアステーション\"]]],[\"石巻専修大学\"],[\"桜美林大学\"],[\"名古屋学院大学\"]]"
   ]
  },
  {
   "cell_type": "code",
   "execution_count": 112,
   "metadata": {
    "collapsed": false
   },
   "outputs": [
    {
     "name": "stdout",
     "output_type": "stream",
     "text": [
      "yes\n",
      "yes\n",
      "yes\n",
      "yes\n"
     ]
    }
   ],
   "source": [
    "a = URIRef(\"http://example.org/Class/大学\")\n",
    "b = RDF.type\n",
    "for item in items:\n",
    "    c = BNode('{}'.format(n))\n",
    "    g.add((a, b, c))\n",
    "    n+=1\n",
    "    for i in item:\n",
    "        if type(i) is list:\n",
    "            d = SKOS.narrower\n",
    "            for i2 in i:\n",
    "                e = BNode('{}'.format(n))\n",
    "                n+=1\n",
    "                g.add((c,d,e))\n",
    "                h = RDFS.label\n",
    "                for i3 in i2:\n",
    "                    f = Literal('{}'.format(i3))\n",
    "                    g.add((e,h,f))\n",
    "        else:\n",
    "            d = RDFS.label\n",
    "            e = Literal('{}'.format(i))\n",
    "            g.add((c,d,e))"
   ]
  },
  {
   "cell_type": "markdown",
   "metadata": {},
   "source": [
    "### Turtle"
   ]
  },
  {
   "cell_type": "code",
   "execution_count": 113,
   "metadata": {
    "collapsed": false,
    "scrolled": true
   },
   "outputs": [
    {
     "name": "stdout",
     "output_type": "stream",
     "text": [
      "@prefix ns1: <http://www.w3.org/2004/02/skos/core#> .\n",
      "@prefix rdf: <http://www.w3.org/1999/02/22-rdf-syntax-ns#> .\n",
      "@prefix rdfs: <http://www.w3.org/2000/01/rdf-schema#> .\n",
      "@prefix xml: <http://www.w3.org/XML/1998/namespace> .\n",
      "@prefix xsd: <http://www.w3.org/2001/XMLSchema#> .\n",
      "\n",
      "<http://example.org/Class/大学> a [ rdfs:label \"東北大学\" ;\n",
      "            ns1:narrower [ rdfs:label \"東北大学川内北キャンパス\" ],\n",
      "                [ rdfs:label \"東北大学病院\" ],\n",
      "                [ rdfs:label \"東北大学片平キャンパス\" ] ],\n",
      "        [ rdfs:label \"麗澤大学\" ],\n",
      "        [ rdfs:label \"佛教大学\" ],\n",
      "        [ rdfs:label \"青山学院大学\" ;\n",
      "            ns1:narrower [ rdfs:label \"青山学院大学ボランティアステーション\" ] ],\n",
      "        [ rdfs:label \"石巻専修大学\" ],\n",
      "        [ rdfs:label \"桜美林大学\" ],\n",
      "        [ rdfs:label \"名古屋学院大学\" ],\n",
      "        [ rdfs:label \"東北学院大学\" ;\n",
      "            ns1:narrower [ rdfs:label \"東北学院大学災害ボランティアステーション\",\n",
      "                        \"東北学院大学災害ボランティア・ステーション\" ] ],\n",
      "        [ rdfs:label \"静岡大学\" ;\n",
      "            ns1:narrower [ rdfs:label \"静岡大学ボランティアサークル響\" ] ],\n",
      "        [ rdfs:label \"聖徳大学\" ],\n",
      "        [ rdfs:label \"帝京大学\" ] .\n",
      "\n",
      "\n"
     ]
    }
   ],
   "source": [
    "print(g.serialize(format='turtle').decode('utf-8'))"
   ]
  },
  {
   "cell_type": "code",
   "execution_count": null,
   "metadata": {
    "collapsed": true
   },
   "outputs": [],
   "source": []
  }
 ],
 "metadata": {
  "kernelspec": {
   "display_name": "Python 3",
   "language": "python",
   "name": "python3"
  },
  "language_info": {
   "codemirror_mode": {
    "name": "ipython",
    "version": 3
   },
   "file_extension": ".py",
   "mimetype": "text/x-python",
   "name": "python",
   "nbconvert_exporter": "python",
   "pygments_lexer": "ipython3",
   "version": "3.5.1"
  }
 },
 "nbformat": 4,
 "nbformat_minor": 0
}
