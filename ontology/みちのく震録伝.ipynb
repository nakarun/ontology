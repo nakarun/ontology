{
 "cells": [
  {
   "cell_type": "code",
   "execution_count": null,
   "metadata": {
    "collapsed": true
   },
   "outputs": [],
   "source": []
  },
  {
   "cell_type": "code",
   "execution_count": 1,
   "metadata": {
    "collapsed": true
   },
   "outputs": [],
   "source": [
    "from rdflib import Graph\n",
    "from rdflib import URIRef, Literal, BNode, RDFS, RDF\n",
    "from rdflib.namespace import SKOS"
   ]
  },
  {
   "cell_type": "code",
   "execution_count": 153,
   "metadata": {
    "collapsed": true
   },
   "outputs": [],
   "source": [
    "n=0"
   ]
  },
  {
   "cell_type": "code",
   "execution_count": 154,
   "metadata": {
    "collapsed": true
   },
   "outputs": [],
   "source": [
    "g = Graph()"
   ]
  },
  {
   "cell_type": "markdown",
   "metadata": {},
   "source": [
    "### 学校"
   ]
  },
  {
   "cell_type": "code",
   "execution_count": 25,
   "metadata": {
    "collapsed": true
   },
   "outputs": [],
   "source": [
    "items = [[\"大東文化大学\"],[\"早稲田大学\"],[\"東北大学\",[[\"東北大学大学院農学研究科\"],[\"東北大学災害制御研究センター\"],[\"東北大学病院\"],[\"東北大学による東日本大震災アーカイブプロジェクト\"] ,[\"東北大学災害科学国際研究科\"]]],\n",
    "         [\"石巻専修大学\"],[\"カリフォルニア大学\"],[\"西九州大学\"],[\"城西国際大学\"],[\"ハーバード大学\"],[\"ロンドン大学\"],[\"岩手大学\"],[\"東北学院大学\"],[\"修文大学\"],[\"大谷大学\"],[\"広島大学\"],[\"福岡大学\"],[\"法政大学\"],[\"近畿大学\"],\n",
    "         [\"東北生活文化大学\"],[\"宮城学院女子大学\"],[\"武庫川女子大学\"],[\"尚絅学院大学\"],[\"奈良大学\",[[\"奈良大学落語研究会\"]]],[\"宮城教育大学\"],[\"東北工業大学\"]]"
   ]
  },
  {
   "cell_type": "code",
   "execution_count": 23,
   "metadata": {
    "collapsed": true
   },
   "outputs": [],
   "source": [
    "a = URIRef(\"http://example.org/Class/大学\")\n",
    "b = RDF.type\n",
    "for item in items:\n",
    "    c = BNode('{}'.format(n))\n",
    "    g.add((a, b, c))\n",
    "    n+=1\n",
    "    for i in item:\n",
    "        if type(i) is list:\n",
    "            d = SKOS.narrower\n",
    "            for i2 in i:\n",
    "                e = BNode('{}'.format(n))\n",
    "                n+=1\n",
    "                g.add((c,d,e))\n",
    "                h = RDFS.label\n",
    "                for i3 in i2:\n",
    "                    f = Literal('{}'.format(i3))\n",
    "                    g.add((e,h,f))\n",
    "        else:\n",
    "            d = RDFS.label\n",
    "            e = Literal('{}'.format(i))\n",
    "            g.add((c,d,e))"
   ]
  },
  {
   "cell_type": "code",
   "execution_count": null,
   "metadata": {
    "collapsed": true
   },
   "outputs": [],
   "source": [
    "items = [[\"東京都立府中高等学校\"],[\"宮城県白石高等学校\"],[\"向洋高等学校\"],[\"\"]]"
   ]
  },
  {
   "cell_type": "code",
   "execution_count": null,
   "metadata": {
    "collapsed": true
   },
   "outputs": [],
   "source": []
  },
  {
   "cell_type": "markdown",
   "metadata": {},
   "source": [
    "### 株式会社"
   ]
  },
  {
   "cell_type": "code",
   "execution_count": 38,
   "metadata": {
    "collapsed": true
   },
   "outputs": [],
   "source": [
    "items = [[\"東建コーポレーション株式会社\"],[\"株式会社三共\"],[\"ショーボンド建設株式会社\"],[\"株式会社栄光\"],[\"西濃運輸株式会社\",[[\"西濃運輸株式会社仙台支店\"]]],\n",
    "        [\"株式会社 フジタ\"],[\"日特建設株式会社\"],[\"株式会社三協\"],[\"株式会社日立製作所\"],[\"前田道路株式会社\"],[\"カメイ株式会社\"],[\"株式会社松浦\"],[\"KDDI株式会社\"],\n",
    "        [\"株式会社秀建\"],[\"株式会社豊成\"],[\"株式会社アームズ\"],[\"中鉢建設株式会社\"],[\"レンゴー株式会社\"],[\"株式会社大成\"],[\"株式会社 大仙\"],[\"トヨタ自動車株式会社\"],\n",
    "        [\"株式会社 泉工務店\"],[\"赤坂建設株式会社\"],[\"西松建設株式会社\",[[\"西松建設株式会社 北日本支社\"],[\"西松建設株式会社 東北支店\"]]],[\"株式会社マルハ\"],\n",
    "        [\"若築建設株式会社\"],[\"東洋建設株式会社\"],[\"株式会社阿部長商店\"],[\"五洋建設株式会社\"],[\"株式会社小山\"],[\"株式会社気仙沼工場\"],[\"株式会社神奈川\"],\n",
    "        [\"日本基礎技術株式会社\"],[\"株式会社ホームエネルギー東北\"],[\"株式会社エム・アイ\"],[\"株式会社エコー\"],[\"ソーダニッカ株式会社\"],[\"株式会社岩沼精工\"],[\"大和ハウス工業株式会社\"],\n",
    "        [\"日本製紙株式会社\"],[\"阿部興業株式会社\"],[\"株式会社丸栄\"],[\"鹿島道路株式会社\"],[\"松尾建設株式会社\"],[\"戸田建設株式会社\"],[\"りんかい日産建設\"],\n",
    "        [\"株式会社ヤマホン\",[[\"株式会社ヤマホンベイフーズ\"]]],[\"あおみ建設株式会社\"],[\"大豊建設株式会社\"],[\"東亜建設工業株式会社\"],[\"佐川急便株式会社\"],[\"日建工業株式会社\"],\n",
    "        [\"熱海建設株式会社\"],[\"株式会社佐藤工務店\"],[\"株式会社小野\"],[\"ソニー株式会社\"],[\"株式会社エル\"],[\"株式会社BIT\"],[\"東亜道路工業株式会社\"],[\"株式会社大町\"],[\"株式会社ウチダ\"],\n",
    "        [\"株式会社TH\"],[\"奥田建設株式会社\"],[\"国際航業株式会社\"],[\"皆成建設株式会社\"],[\"株式会社 熊谷組\"],[\"第一建設工業株式会社\"],[\"株式会社佐木組\"],[\"株式会社丸本\"],[\"株式会社八光電機\"],\n",
    "        [\"株式会社 大成\"],[\"山辰建設株式会社\"],[\"株式会社宮崎\"],[\"東京エレクトロン株式会社\"],[\"株式会社山大\"],[\"株式会社安藤間\"],[\"株式会社渡辺\"],[\"株式会社小泉\"],[\"株式会社大仙\"],\n",
    "        [\"⾶飛⿃鳥建設株式会社\",[[\"⾶飛⿃鳥建設株式会社 東北⽀支店\"]]],[\"山和建設株式会社\"],[\"菱和建設株式会社\"],[\"株式会社平和\"],[\"株式会社鴻池組\"],[\"ニチハ株式会社\"],[\"総合開発株式会社\"],\n",
    "        [\"株式会社GSユアサ\"],[\"株式会社日伸\"],[\"丸藤シートパイル株式会社\"],[\"株式会社第一\"],[\"水野水産株式会社\"],[\"株式会社斎藤\"],[\"前田建設工業株式会社\"],[\"木皿建設株式会社\"],[\"日鐵住金建材株式会社\"],\n",
    "        [\"アソート株式会社\"],[\"株式会社マーク\"],[\"近藤産興株式会社\"],[\"前田建設工業 株式会社\"],[\"株式会社サクラ\"],[\"株式会社東北マリ\"],[\"菱中建設株式会社\"],[\"株式会社クボタ\"],\n",
    "        [\"株式会社ユニホー\"],[\"株式会社三栄\"],[\"日本株式会社\"],[\"株式会社アルファー\"],[\"株式会社ライフ\"],[\"株式会社エム・テック\"],[\"株式会社フジ\"],[\"株式会社マルイチ\"],[\"三菱農機株式会社\"],\n",
    "        [\"東北電力株式会社\"],[\"りんかい日産建設株式会社\"],[\"株式会社栄伸\"],[\"株式会社大地\"],[\"株式会社井上\"],[\"凌和電子株式会社\"],[\"佐藤工業株式会社\"],[\"株式会社NIPPO\"],\n",
    "        [\"日本道路株式会社\"],[\"株式会社イースト\"],[\"東日本高速道路株式会社\"],[\"南商事株式会社\"],[\"ヤンマー株式会社\"],[\"株式会社 鎌田\"],[\"株式会社 松村組\"],[\"株式会社 橋本店\"],\n",
    "        [\"株式会社日立プラントテクノロジー\"],[\"株式会社淺沼組\"],[\"株式会社ヤマト\"],[\"株式会社朝日\"],[\"よっちゃん食品工業株式会社\"],[\"阪神低温株式会社\"],[\"株式会社 昴\"],[\"株式会社 昴設計\"]]"
   ]
  },
  {
   "cell_type": "code",
   "execution_count": 39,
   "metadata": {
    "collapsed": true
   },
   "outputs": [],
   "source": [
    "a = URIRef(\"http://example.org/Class/株式会社\")\n",
    "b = RDF.type\n",
    "for item in items:\n",
    "    c = BNode('{}'.format(n))\n",
    "    g.add((a, b, c))\n",
    "    n+=1\n",
    "    for i in item:\n",
    "        if type(i) is list:\n",
    "            d = SKOS.narrower\n",
    "            for i2 in i:\n",
    "                e = BNode('{}'.format(n))\n",
    "                n+=1\n",
    "                g.add((c,d,e))\n",
    "                h = RDFS.label\n",
    "                for i3 in i2:\n",
    "                    f = Literal('{}'.format(i3))\n",
    "                    g.add((e,h,f))\n",
    "        else:\n",
    "            d = RDFS.label\n",
    "            e = Literal('{}'.format(i))\n",
    "            g.add((c,d,e))"
   ]
  },
  {
   "cell_type": "markdown",
   "metadata": {},
   "source": [
    "### 野球場"
   ]
  },
  {
   "cell_type": "code",
   "execution_count": 71,
   "metadata": {
    "collapsed": true
   },
   "outputs": [],
   "source": [
    "items = [[\"牛橋公園野球場\"],[\"多賀城公園野球場\",[[\"多賀城公園野球場仮設\",\"多賀城公園野球場仮設住宅\"]]],\n",
    "         [\"気仙沼市市営野球場\",[[\"気仙沼市市営野球場 応急仮設住宅\"]]],[\"女川町野球場\",\"女川町民野球場\",[[\"女川町野球場仮設住宅\",\"女川町民野球場応急仮設住宅\"]]]]"
   ]
  },
  {
   "cell_type": "code",
   "execution_count": 72,
   "metadata": {
    "collapsed": true
   },
   "outputs": [],
   "source": [
    "a = URIRef(\"http://example.org/Class/野球場\")\n",
    "b = RDF.type\n",
    "for item in items:\n",
    "    c = BNode('{}'.format(n))\n",
    "    g.add((a, b, c))\n",
    "    n+=1\n",
    "    for i in item:\n",
    "        if type(i) is list:\n",
    "            d = SKOS.narrower\n",
    "            for i2 in i:\n",
    "                e = BNode('{}'.format(n))\n",
    "                n+=1\n",
    "                g.add((c,d,e))\n",
    "                h = RDFS.label\n",
    "                for i3 in i2:\n",
    "                    f = Literal('{}'.format(i3))\n",
    "                    g.add((e,h,f))\n",
    "        else:\n",
    "            d = RDFS.label\n",
    "            e = Literal('{}'.format(i))\n",
    "            g.add((c,d,e))"
   ]
  },
  {
   "cell_type": "markdown",
   "metadata": {},
   "source": [
    "### 体育館"
   ]
  },
  {
   "cell_type": "code",
   "execution_count": 84,
   "metadata": {
    "collapsed": true
   },
   "outputs": [],
   "source": [
    "items = [[\"塩釜市体育館\",[[\"塩釜市体育館駐車場応急仮設住宅\"]]],[\"本吉総合体育館\"],[\"多賀城市総合体育館\"],[\"気仙沼市総合体育館\"],[\"利府町総合体育館\"],\n",
    "         [\"塩釜ガス体育館\"],[\"宮戸小学校体育館\"],[\"宮城野体育館\"],[\"吉田体育館\"]]"
   ]
  },
  {
   "cell_type": "code",
   "execution_count": 85,
   "metadata": {
    "collapsed": true
   },
   "outputs": [],
   "source": [
    "a = URIRef(\"http://example.org/Class/体育館\")\n",
    "b = RDF.type\n",
    "for item in items:\n",
    "    c = BNode('{}'.format(n))\n",
    "    g.add((a, b, c))\n",
    "    n+=1\n",
    "    for i in item:\n",
    "        if type(i) is list:\n",
    "            d = SKOS.narrower\n",
    "            for i2 in i:\n",
    "                e = BNode('{}'.format(n))\n",
    "                n+=1\n",
    "                g.add((c,d,e))\n",
    "                h = RDFS.label\n",
    "                for i3 in i2:\n",
    "                    f = Literal('{}'.format(i3))\n",
    "                    g.add((e,h,f))\n",
    "        else:\n",
    "            d = RDFS.label\n",
    "            e = Literal('{}'.format(i))\n",
    "            g.add((c,d,e))"
   ]
  },
  {
   "cell_type": "markdown",
   "metadata": {},
   "source": [
    "### 消防"
   ]
  },
  {
   "cell_type": "code",
   "execution_count": 110,
   "metadata": {
    "collapsed": true
   },
   "outputs": [],
   "source": [
    "a = URIRef(\"http://example.org/Class/消防組織\")\n",
    "b = SKOS.narrower\n",
    "c = URIRef(\"http://example.org/Class/消防署\")\n",
    "d = URIRef(\"http://example.org/Class/消防団\")\n",
    "e = URIRef(\"http://example.org/Class/消防本部\")\n",
    "g.add((a,b,c))\n",
    "g.add((a,b,d))\n",
    "g.add((a,b,e))"
   ]
  },
  {
   "cell_type": "code",
   "execution_count": 111,
   "metadata": {
    "collapsed": true
   },
   "outputs": [],
   "source": [
    "items = [[\"女川消防署\"],[\"消防署山元分署\"],[\"亘理消防署\"],[\"宮城野消防署\"],[\"若林消防署\",\"仙台市若林消防署\"],[\"南三陸消防署\"]]"
   ]
  },
  {
   "cell_type": "code",
   "execution_count": 112,
   "metadata": {
    "collapsed": true
   },
   "outputs": [],
   "source": [
    "a = URIRef(\"http://example.org/Class/消防署\")\n",
    "b = RDF.type\n",
    "for item in items:\n",
    "    c = BNode('{}'.format(n))\n",
    "    g.add((a, b, c))\n",
    "    n+=1\n",
    "    for i in item:\n",
    "        if type(i) is list:\n",
    "            d = SKOS.narrower\n",
    "            for i2 in i:\n",
    "                e = BNode('{}'.format(n))\n",
    "                n+=1\n",
    "                g.add((c,d,e))\n",
    "                h = RDFS.label\n",
    "                for i3 in i2:\n",
    "                    f = Literal('{}'.format(i3))\n",
    "                    g.add((e,h,f))\n",
    "        else:\n",
    "            d = RDFS.label\n",
    "            e = Literal('{}'.format(i))\n",
    "            g.add((c,d,e))"
   ]
  },
  {
   "cell_type": "code",
   "execution_count": 113,
   "metadata": {
    "collapsed": true
   },
   "outputs": [],
   "source": [
    "items = [[\"石巻消防団\"],[\"仙台市若林消防団\"],[\"亘理町消防団\"],[\"東松島市消防団\"]]"
   ]
  },
  {
   "cell_type": "code",
   "execution_count": 114,
   "metadata": {
    "collapsed": true
   },
   "outputs": [],
   "source": [
    "a = URIRef(\"http://example.org/Class/消防団\")\n",
    "b = RDF.type\n",
    "for item in items:\n",
    "    c = BNode('{}'.format(n))\n",
    "    g.add((a, b, c))\n",
    "    n+=1\n",
    "    for i in item:\n",
    "        if type(i) is list:\n",
    "            d = SKOS.narrower\n",
    "            for i2 in i:\n",
    "                e = BNode('{}'.format(n))\n",
    "                n+=1\n",
    "                g.add((c,d,e))\n",
    "                h = RDFS.label\n",
    "                for i3 in i2:\n",
    "                    f = Literal('{}'.format(i3))\n",
    "                    g.add((e,h,f))\n",
    "        else:\n",
    "            d = RDFS.label\n",
    "            e = Literal('{}'.format(i))\n",
    "            g.add((c,d,e))"
   ]
  },
  {
   "cell_type": "code",
   "execution_count": 115,
   "metadata": {
    "collapsed": true
   },
   "outputs": [],
   "source": [
    "items = [[\"名取市消防本部\"]]"
   ]
  },
  {
   "cell_type": "code",
   "execution_count": 116,
   "metadata": {
    "collapsed": true
   },
   "outputs": [],
   "source": [
    "a = URIRef(\"http://example.org/Class/消防本部\")\n",
    "b = RDF.type\n",
    "for item in items:\n",
    "    c = BNode('{}'.format(n))\n",
    "    g.add((a, b, c))\n",
    "    n+=1\n",
    "    for i in item:\n",
    "        if type(i) is list:\n",
    "            d = SKOS.narrower\n",
    "            for i2 in i:\n",
    "                e = BNode('{}'.format(n))\n",
    "                n+=1\n",
    "                g.add((c,d,e))\n",
    "                h = RDFS.label\n",
    "                for i3 in i2:\n",
    "                    f = Literal('{}'.format(i3))\n",
    "                    g.add((e,h,f))\n",
    "        else:\n",
    "            d = RDFS.label\n",
    "            e = Literal('{}'.format(i))\n",
    "            g.add((c,d,e))"
   ]
  },
  {
   "cell_type": "markdown",
   "metadata": {},
   "source": [
    "### 協会"
   ]
  },
  {
   "cell_type": "code",
   "execution_count": 97,
   "metadata": {
    "collapsed": true
   },
   "outputs": [],
   "source": [
    "items = [[\"信用保証協会\"],[\"東北地域づくり協会\"],[\"宮城県看護協会\"],[\"国際交流協会\"],[\"空港環境整備協会\"],[\"上方落語協会\"],[\"日本消防協会\"],\n",
    "        [\"交通安全協会\",[[\"名取地区交通安全協会\"]]],[\"観光協会\",[[\"利府町観光協会\",\"本吉町観光協会\",\"松島観光協会\"]]],[\"気仙沼復興協会\",\"(社)気仙沼復興協会(KRA)\"],\n",
    "        [\"日本花き卸売市場協会\"],[\"建設協会\",\"建設業協会\",[[\"東北建設協会\"]]],[\"全国健康保険協会\"],[\"相撲協会\"],[\"日本漫画協会\"],[\"社団法人アジア協会アジア友の会\"],\n",
    "        [\"サッカー協会\",[[\"社団法人宮城県サッカー協会\"]]],[\"日本宝くじ協会\"],[\"公益財団法人文化財建築物保存技術協会\"]]"
   ]
  },
  {
   "cell_type": "code",
   "execution_count": 98,
   "metadata": {
    "collapsed": true
   },
   "outputs": [],
   "source": [
    "a = URIRef(\"http://example.org/Class/協会\")\n",
    "b = RDF.type\n",
    "for item in items:\n",
    "    c = BNode('{}'.format(n))\n",
    "    g.add((a, b, c))\n",
    "    n+=1\n",
    "    for i in item:\n",
    "        if type(i) is list:\n",
    "            d = SKOS.narrower\n",
    "            for i2 in i:\n",
    "                e = BNode('{}'.format(n))\n",
    "                n+=1\n",
    "                g.add((c,d,e))\n",
    "                h = RDFS.label\n",
    "                for i3 in i2:\n",
    "                    f = Literal('{}'.format(i3))\n",
    "                    g.add((e,h,f))\n",
    "        else:\n",
    "            d = RDFS.label\n",
    "            e = Literal('{}'.format(i))\n",
    "            g.add((c,d,e))"
   ]
  },
  {
   "cell_type": "markdown",
   "metadata": {},
   "source": [
    "### 病院"
   ]
  },
  {
   "cell_type": "code",
   "execution_count": 120,
   "metadata": {
    "collapsed": true
   },
   "outputs": [],
   "source": [
    "items = [[\"市立雄勝病院\"],[\"石巻市立病院\",[[\"石巻市立病院看護師宿舎\"]]],[\"石巻赤十字病院\"],[\"松島病院\"],[\"成田赤十字病院\"],[\"気仙沼市立病院\"],\n",
    "        [\"大槌病院\"],[\"東北大学病院\"],[\"南浜中央病院\"],[\"仙台赤十字病院\"],[\"緑ヶ丘病院\"],[\"大崎市民病院\"],[\"宮城病院\"]]"
   ]
  },
  {
   "cell_type": "code",
   "execution_count": 121,
   "metadata": {
    "collapsed": true
   },
   "outputs": [],
   "source": [
    "a = URIRef(\"http://example.org/Class/病院\")\n",
    "b = RDF.type\n",
    "for item in items:\n",
    "    c = BNode('{}'.format(n))\n",
    "    g.add((a, b, c))\n",
    "    n+=1\n",
    "    for i in item:\n",
    "        if type(i) is list:\n",
    "            d = SKOS.narrower\n",
    "            for i2 in i:\n",
    "                e = BNode('{}'.format(n))\n",
    "                n+=1\n",
    "                g.add((c,d,e))\n",
    "                h = RDFS.label\n",
    "                for i3 in i2:\n",
    "                    f = Literal('{}'.format(i3))\n",
    "                    g.add((e,h,f))\n",
    "        else:\n",
    "            d = RDFS.label\n",
    "            e = Literal('{}'.format(i))\n",
    "            g.add((c,d,e))"
   ]
  },
  {
   "cell_type": "markdown",
   "metadata": {},
   "source": [
    "### 駅"
   ]
  },
  {
   "cell_type": "code",
   "execution_count": 125,
   "metadata": {
    "collapsed": true
   },
   "outputs": [],
   "source": [
    "items = [[\"浦宿駅\"],[\"亘理駅\"],[\"東名駅\"],[\"気仙沼駅\"],[\"本吉駅\"],[\"野蒜駅\",\"JR東日本 野蒜駅\"],[\"志津川駅\"],[\"松島海岸駅\",[[\"松島海岸駅前商店街\"]]],\n",
    "         [\"岩切駅\"],[\"帯広駅\"],[\"仙台空港駅\"],[\"松島駅\"],[\"新地駅\"],[\"高砂駅\"],[\"山下駅\",\"JR山下駅\"],[\"石巻港駅\"],[\"陸前浜田駅\"],[\"石巻駅\"],\n",
    "         [\"多賀城駅\",\"JR仙石線多賀城駅\"],[\"国府多賀城駅\",[[\"国府多賀城駅南地区応急仮設住宅\",\"国府多賀城駅南地区仮設住宅\"]]],[\"東京駅\"],\n",
    "         [\"名取駅\"],[\"苦竹駅\",\"JR苦竹駅\"],[\"矢本駅\"],[\"東矢本駅\"],[\"鹿折唐桑駅\"],[\"小牛田駅\"],[\"塩釜駅\"],[\"本塩釜駅\",\"仙石線本塩釜駅\"],\n",
    "         [\"不動の沢駅\"],[\"小金沢駅\"],[\"利府駅\"],[\"五反田駅\"],[\"渡波駅\"],[\"歌津駅\"],[\"松岩駅\"],[\"坂元駅\"],[\"下馬駅\"],[\"最知駅\"],[\"仙台駅\"],[\"東仙台駅\"],\n",
    "         [\"品井沼駅\"],[\"浜吉田駅\"],[\"大谷海岸駅\"],[\"陸前富山駅\"],[\"清水浜駅\"],[\"相馬駅\"],[\"陸前原ノ町駅\"],[\"八木駅\"],[\"岩沼駅\"],[\"女川駅\",\"JR東日本女川駅\"],\n",
    "         [\"小野駅\",\"東松島市小野駅\",[[\"東松島市小野駅前地区応急仮設住宅\"]]],[\"陸前小野駅\"],[\"小鶴新田駅\"],[\"陸前大塚駅\"],[\"坂本駅\"],[\"荒井駅\"],[\"美田園駅\"],\n",
    "         [\"\"]]"
   ]
  },
  {
   "cell_type": "code",
   "execution_count": 126,
   "metadata": {
    "collapsed": true
   },
   "outputs": [],
   "source": [
    "a = URIRef(\"http://example.org/Class/駅\")\n",
    "b = RDF.type\n",
    "for item in items:\n",
    "    c = BNode('{}'.format(n))\n",
    "    g.add((a, b, c))\n",
    "    n+=1\n",
    "    for i in item:\n",
    "        if type(i) is list:\n",
    "            d = SKOS.narrower\n",
    "            for i2 in i:\n",
    "                e = BNode('{}'.format(n))\n",
    "                n+=1\n",
    "                g.add((c,d,e))\n",
    "                h = RDFS.label\n",
    "                for i3 in i2:\n",
    "                    f = Literal('{}'.format(i3))\n",
    "                    g.add((e,h,f))\n",
    "        else:\n",
    "            d = RDFS.label\n",
    "            e = Literal('{}'.format(i))\n",
    "            g.add((c,d,e))"
   ]
  },
  {
   "cell_type": "markdown",
   "metadata": {},
   "source": [
    "### 組織"
   ]
  },
  {
   "cell_type": "code",
   "execution_count": 130,
   "metadata": {
    "collapsed": true
   },
   "outputs": [],
   "source": [
    "items = [[\"都市再生機構\",[[\"都市再生機構東日本賃貸住宅本部\"]]],[\"海洋研究開発機構\"],[\"雇用・能力開発機構\",[[\"雇用・能力開発機構宮城センター\"]]],[\"国立病院機構\"]]"
   ]
  },
  {
   "cell_type": "code",
   "execution_count": 131,
   "metadata": {
    "collapsed": true
   },
   "outputs": [],
   "source": [
    "a = URIRef(\"http://example.org/Class/機構\")\n",
    "b = RDF.type\n",
    "for item in items:\n",
    "    c = BNode('{}'.format(n))\n",
    "    g.add((a, b, c))\n",
    "    n+=1\n",
    "    for i in item:\n",
    "        if type(i) is list:\n",
    "            d = SKOS.narrower\n",
    "            for i2 in i:\n",
    "                e = BNode('{}'.format(n))\n",
    "                n+=1\n",
    "                g.add((c,d,e))\n",
    "                h = RDFS.label\n",
    "                for i3 in i2:\n",
    "                    f = Literal('{}'.format(i3))\n",
    "                    g.add((e,h,f))\n",
    "        else:\n",
    "            d = RDFS.label\n",
    "            e = Literal('{}'.format(i))\n",
    "            g.add((c,d,e))"
   ]
  },
  {
   "cell_type": "markdown",
   "metadata": {},
   "source": [
    "### 公民館"
   ]
  },
  {
   "cell_type": "code",
   "execution_count": 135,
   "metadata": {
    "collapsed": true
   },
   "outputs": [],
   "source": [
    "items = [[\"塩竈市公民館\"],[\"松岩公民館\"],[\"亘理町中央公民館\"],[\"松島中央公民館\"],[\"山元町中央公民館\"],[\"玉浦公民館\"],[\"閖上公民館\"],\n",
    "         [\"大代地区公民館\"],[\"山王地区公民館\"],[\"赤沼公民館\"],[\"稲井公民館\"],[\"雄勝公民館\"],[\"下増田公民館\"]]"
   ]
  },
  {
   "cell_type": "code",
   "execution_count": 136,
   "metadata": {
    "collapsed": true
   },
   "outputs": [],
   "source": [
    "a = URIRef(\"http://example.org/Class/機構\")\n",
    "b = RDF.type\n",
    "for item in items:\n",
    "    c = BNode('{}'.format(n))\n",
    "    g.add((a, b, c))\n",
    "    n+=1\n",
    "    for i in item:\n",
    "        if type(i) is list:\n",
    "            d = SKOS.narrower\n",
    "            for i2 in i:\n",
    "                e = BNode('{}'.format(n))\n",
    "                n+=1\n",
    "                g.add((c,d,e))\n",
    "                h = RDFS.label\n",
    "                for i3 in i2:\n",
    "                    f = Literal('{}'.format(i3))\n",
    "                    g.add((e,h,f))\n",
    "        else:\n",
    "            d = RDFS.label\n",
    "            e = Literal('{}'.format(i))\n",
    "            g.add((c,d,e))"
   ]
  },
  {
   "cell_type": "markdown",
   "metadata": {},
   "source": [
    "### 組合"
   ]
  },
  {
   "cell_type": "code",
   "execution_count": 140,
   "metadata": {
    "collapsed": true
   },
   "outputs": [],
   "source": [
    "items = [[\"労働組合\",[[\"京都建築労働組合\"]]],[\"気仙沼・本吉地域広域行政事務組合\"],[\"企業組合\"],[\"管理組合\"],\n",
    "         [\"区画整理組合\",[[\"仙台市荒井西土地区画整理組合\"],[\"仙台市荒井東土地区画整理組合\"],[\"仙台市田子西土地区画整理組合\"],[\"仙台市荒井南土地区画整理組合\"]]],\n",
    "         [\"松島町漁業組合\"],[\"塩釜蒲鉾連合商工業協同組合\"],[\"協同組合\",[[\"塩釜蒲鉾連合商工業協同組合\"],[\"農業協同組合\"],[\"買受人協同組合\"],[\"漁業協同組合\"],[\"水産加工業協同組合\"],[\"みやぎ生活協同組合\"],[\"事業協同組合\"],[\"協同組合連合会\"]]],\n",
    "         [\"農事組合法人\"],[\"亘理名取共立衛生処理組合\"],[\"生産組合\",[[\"花生産組合\"],[\"漁業生産組合\"]]],[\"古浦かき組合\"],[\"健康保険組合\"],[\"協業組合\"],[\"森林組合\"]]"
   ]
  },
  {
   "cell_type": "code",
   "execution_count": 141,
   "metadata": {
    "collapsed": true
   },
   "outputs": [],
   "source": [
    "a = URIRef(\"http://example.org/Class/組合\")\n",
    "b = RDF.type\n",
    "for item in items:\n",
    "    c = BNode('{}'.format(n))\n",
    "    g.add((a, b, c))\n",
    "    n+=1\n",
    "    for i in item:\n",
    "        if type(i) is list:\n",
    "            d = SKOS.narrower\n",
    "            for i2 in i:\n",
    "                e = BNode('{}'.format(n))\n",
    "                n+=1\n",
    "                g.add((c,d,e))\n",
    "                h = RDFS.label\n",
    "                for i3 in i2:\n",
    "                    f = Literal('{}'.format(i3))\n",
    "                    g.add((e,h,f))\n",
    "        else:\n",
    "            d = RDFS.label\n",
    "            e = Literal('{}'.format(i))\n",
    "            g.add((c,d,e))"
   ]
  },
  {
   "cell_type": "markdown",
   "metadata": {},
   "source": [
    "### 震災関連住宅"
   ]
  },
  {
   "cell_type": "code",
   "execution_count": 145,
   "metadata": {
    "collapsed": true
   },
   "outputs": [],
   "source": [
    "a = URIRef(\"http://example.org/Class/震災関連住宅\")\n",
    "b = SKOS.narrower\n",
    "c = URIRef(\"http://example.org/Class/仮設住宅\")\n",
    "d = URIRef(\"http://example.org/Class/公営住宅\")\n",
    "g.add((a,b,c))\n",
    "g.add((a,b,d))"
   ]
  },
  {
   "cell_type": "code",
   "execution_count": 146,
   "metadata": {
    "collapsed": true
   },
   "outputs": [],
   "source": [
    "items = [[\"大谷中学校グラウンド仮設住宅\"],[\"多賀城中学校仮設住宅\"],[\"国府多賀城駅南地区仮設住宅\"]]"
   ]
  },
  {
   "cell_type": "code",
   "execution_count": 147,
   "metadata": {
    "collapsed": true
   },
   "outputs": [],
   "source": [
    "a = URIRef(\"http://example.org/Class/仮設住宅\")\n",
    "b = RDF.type\n",
    "for item in items:\n",
    "    c = BNode('{}'.format(n))\n",
    "    g.add((a, b, c))\n",
    "    n+=1\n",
    "    for i in item:\n",
    "        if type(i) is list:\n",
    "            d = SKOS.narrower\n",
    "            for i2 in i:\n",
    "                e = BNode('{}'.format(n))\n",
    "                n+=1\n",
    "                g.add((c,d,e))\n",
    "                h = RDFS.label\n",
    "                for i3 in i2:\n",
    "                    f = Literal('{}'.format(i3))\n",
    "                    g.add((e,h,f))\n",
    "        else:\n",
    "            d = RDFS.label\n",
    "            e = Literal('{}'.format(i))\n",
    "            g.add((c,d,e))"
   ]
  },
  {
   "cell_type": "code",
   "execution_count": 148,
   "metadata": {
    "collapsed": true
   },
   "outputs": [],
   "source": [
    "items = [[\"災害公営住宅\",[[\"南三陸町災害公営住宅\"],[\"亘理町荒浜地区災害公営住宅\"],[\"桜木地区災害公営住宅\"]]],[\"復興公営住宅\",[[\"仙台市田子西復興公営住宅\"]]]]"
   ]
  },
  {
   "cell_type": "code",
   "execution_count": 149,
   "metadata": {
    "collapsed": true
   },
   "outputs": [],
   "source": [
    "a = URIRef(\"http://example.org/Class/公営住宅\")\n",
    "b = RDF.type\n",
    "for item in items:\n",
    "    c = BNode('{}'.format(n))\n",
    "    g.add((a, b, c))\n",
    "    n+=1\n",
    "    for i in item:\n",
    "        if type(i) is list:\n",
    "            d = SKOS.narrower\n",
    "            for i2 in i:\n",
    "                e = BNode('{}'.format(n))\n",
    "                n+=1\n",
    "                g.add((c,d,e))\n",
    "                h = RDFS.label\n",
    "                for i3 in i2:\n",
    "                    f = Literal('{}'.format(i3))\n",
    "                    g.add((e,h,f))\n",
    "        else:\n",
    "            d = RDFS.label\n",
    "            e = Literal('{}'.format(i))\n",
    "            g.add((c,d,e))"
   ]
  },
  {
   "cell_type": "markdown",
   "metadata": {},
   "source": [
    "### 郵便局"
   ]
  },
  {
   "cell_type": "code",
   "execution_count": 155,
   "metadata": {
    "collapsed": true
   },
   "outputs": [],
   "source": [
    "items = [[\"野蒜郵便局\"],[\"荒浜郵便局\"],[\"女川郵便局\"],[\"塩釜郵便局\"]]"
   ]
  },
  {
   "cell_type": "code",
   "execution_count": 156,
   "metadata": {
    "collapsed": true
   },
   "outputs": [],
   "source": [
    "a = URIRef(\"http://example.org/Class/郵便局\")\n",
    "b = RDF.type\n",
    "for item in items:\n",
    "    c = BNode('{}'.format(n))\n",
    "    g.add((a, b, c))\n",
    "    n+=1\n",
    "    for i in item:\n",
    "        if type(i) is list:\n",
    "            d = SKOS.narrower\n",
    "            for i2 in i:\n",
    "                e = BNode('{}'.format(n))\n",
    "                n+=1\n",
    "                g.add((c,d,e))\n",
    "                h = RDFS.label\n",
    "                for i3 in i2:\n",
    "                    f = Literal('{}'.format(i3))\n",
    "                    g.add((e,h,f))\n",
    "        else:\n",
    "            d = RDFS.label\n",
    "            e = Literal('{}'.format(i))\n",
    "            g.add((c,d,e))"
   ]
  },
  {
   "cell_type": "code",
   "execution_count": null,
   "metadata": {
    "collapsed": true
   },
   "outputs": [],
   "source": []
  },
  {
   "cell_type": "code",
   "execution_count": null,
   "metadata": {
    "collapsed": true
   },
   "outputs": [],
   "source": []
  },
  {
   "cell_type": "code",
   "execution_count": null,
   "metadata": {
    "collapsed": true
   },
   "outputs": [],
   "source": []
  },
  {
   "cell_type": "markdown",
   "metadata": {},
   "source": [
    "### Turtle"
   ]
  },
  {
   "cell_type": "code",
   "execution_count": 157,
   "metadata": {
    "collapsed": false
   },
   "outputs": [
    {
     "name": "stdout",
     "output_type": "stream",
     "text": [
      "@prefix rdf: <http://www.w3.org/1999/02/22-rdf-syntax-ns#> .\n",
      "@prefix rdfs: <http://www.w3.org/2000/01/rdf-schema#> .\n",
      "@prefix xml: <http://www.w3.org/XML/1998/namespace> .\n",
      "@prefix xsd: <http://www.w3.org/2001/XMLSchema#> .\n",
      "\n",
      "<http://example.org/Class/郵便局> a [ rdfs:label \"野蒜郵便局\" ],\n",
      "        [ rdfs:label \"荒浜郵便局\" ],\n",
      "        [ rdfs:label \"女川郵便局\" ],\n",
      "        [ rdfs:label \"塩釜郵便局\" ] .\n",
      "\n",
      "\n"
     ]
    }
   ],
   "source": [
    "print(g.serialize(format='turtle').decode('utf-8'))"
   ]
  },
  {
   "cell_type": "code",
   "execution_count": null,
   "metadata": {
    "collapsed": true
   },
   "outputs": [],
   "source": []
  },
  {
   "cell_type": "code",
   "execution_count": null,
   "metadata": {
    "collapsed": true
   },
   "outputs": [],
   "source": []
  }
 ],
 "metadata": {
  "kernelspec": {
   "display_name": "Python [Root]",
   "language": "python",
   "name": "Python [Root]"
  },
  "language_info": {
   "codemirror_mode": {
    "name": "ipython",
    "version": 3
   },
   "file_extension": ".py",
   "mimetype": "text/x-python",
   "name": "python",
   "nbconvert_exporter": "python",
   "pygments_lexer": "ipython3",
   "version": "3.5.2"
  }
 },
 "nbformat": 4,
 "nbformat_minor": 0
}
