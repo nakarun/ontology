{
 "cells": [
  {
   "cell_type": "code",
   "execution_count": null,
   "metadata": {
    "collapsed": true
   },
   "outputs": [],
   "source": []
  },
  {
   "cell_type": "code",
   "execution_count": 1,
   "metadata": {
    "collapsed": true
   },
   "outputs": [],
   "source": [
    "from SPARQLWrapper import SPARQLWrapper, JSON\n",
    "sparql = SPARQLWrapper(\"http://localhost:8890/sparql\")"
   ]
  },
  {
   "cell_type": "code",
   "execution_count": 11,
   "metadata": {
    "collapsed": true
   },
   "outputs": [],
   "source": [
    "sparql.setQuery(\"\"\"\n",
    "PREFIX p: <http://mdlab.slis.tsukuba.ac.jp/disaster/tmp_vocabulary/5W1H/Property/> \n",
    "PREFIX rdf: <http://www.w3.org/1999/02/22-rdf-syntax-ns#> \n",
    "PREFIX rdfs: <http://www.w3.org/2000/01/rdf-schema#> \n",
    "PREFIX xml: <http://www.w3.org/XML/1998/namespace> \n",
    "PREFIX xsd: <http://www.w3.org/2001/XMLSchema#> \n",
    "\n",
    "SELECT ?agent\n",
    "FROM <http://mdlab.slis.tsukuba.ac.jp/disaster/tmp_vocabulary/5W1H/graph>\n",
    "WHERE {\n",
    "  ?_s p:what ?_jose .\n",
    "  ?_s rdfs:label ?s .\n",
    "  ?_jose rdfs:label ?o .\n",
    "  FILTER(REGEX(?o, '助成'))\n",
    "  ?_s p:who ?_agent .\n",
    "  ?_agent rdfs:label ?agent\n",
    "} group by ?s\n",
    "\"\"\")\n",
    "sparql.setReturnFormat(JSON)\n",
    "distance_level = sparql.query().convert()"
   ]
  },
  {
   "cell_type": "code",
   "execution_count": 12,
   "metadata": {
    "collapsed": false
   },
   "outputs": [
    {
     "name": "stdout",
     "output_type": "stream",
     "text": [
      "漁協\n",
      "ヤマト福祉財団\n",
      "（財）ヤマト福祉財団\n"
     ]
    }
   ],
   "source": [
    "for result in distance_level[\"results\"][\"bindings\"]:\n",
    "    print(result['agent'][\"value\"])"
   ]
  },
  {
   "cell_type": "code",
   "execution_count": 10,
   "metadata": {
    "collapsed": false
   },
   "outputs": [
    {
     "name": "stdout",
     "output_type": "stream",
     "text": [
      "ヤマト福祉財団助成に対する漁協からのお礼状 → 助成\n",
      "水産業共同利用施設復旧支援事業に係る（財）ヤマト福祉財団の助成について（状況の報告とコメント記入のお願い） → 助成\n"
     ]
    }
   ],
   "source": [
    "for result in distance_level[\"results\"][\"bindings\"]:\n",
    "    print(result['s'][\"value\"]+' → '+result['o'][\"value\"])"
   ]
  },
  {
   "cell_type": "code",
   "execution_count": 13,
   "metadata": {
    "collapsed": true
   },
   "outputs": [],
   "source": [
    "sparql.setQuery(\"\"\"\n",
    "PREFIX p: <http://mdlab.slis.tsukuba.ac.jp/disaster/tmp_vocabulary/5W1H/Property/> \n",
    "PREFIX rdf: <http://www.w3.org/1999/02/22-rdf-syntax-ns#> \n",
    "PREFIX rdfs: <http://www.w3.org/2000/01/rdf-schema#> \n",
    "PREFIX xml: <http://www.w3.org/XML/1998/namespace> \n",
    "PREFIX xsd: <http://www.w3.org/2001/XMLSchema#> \n",
    "\n",
    "SELECT ?agent\n",
    "FROM <http://mdlab.slis.tsukuba.ac.jp/disaster/tmp_vocabulary/5W1H/graph>\n",
    "WHERE {\n",
    "  ?_s p:what ?_jose .\n",
    "  ?_s rdfs:label ?s .\n",
    "  ?_jose rdfs:label ?o .\n",
    "  FILTER(REGEX(?o, '一般廃棄物'))\n",
    "  ?_s p:who ?_agent .\n",
    "  ?_agent rdfs:label ?agent\n",
    "} group by ?s\n",
    "\"\"\")\n",
    "sparql.setReturnFormat(JSON)\n",
    "distance_level = sparql.query().convert()"
   ]
  },
  {
   "cell_type": "code",
   "execution_count": 14,
   "metadata": {
    "collapsed": false
   },
   "outputs": [
    {
     "name": "stdout",
     "output_type": "stream",
     "text": [
      "いわてクリーンセンター\n",
      "岩手県北クリーン株式会社\n"
     ]
    }
   ],
   "source": [
    "for result in distance_level[\"results\"][\"bindings\"]:\n",
    "    print(result['agent'][\"value\"])"
   ]
  },
  {
   "cell_type": "code",
   "execution_count": null,
   "metadata": {
    "collapsed": true
   },
   "outputs": [],
   "source": []
  },
  {
   "cell_type": "code",
   "execution_count": 18,
   "metadata": {
    "collapsed": true
   },
   "outputs": [],
   "source": [
    "sparql.setQuery(\"\"\"\n",
    "PREFIX p: <http://mdlab.slis.tsukuba.ac.jp/disaster/tmp_vocabulary/5W1H/Property/> \n",
    "PREFIX rdf: <http://www.w3.org/1999/02/22-rdf-syntax-ns#> \n",
    "PREFIX rdfs: <http://www.w3.org/2000/01/rdf-schema#> \n",
    "PREFIX xml: <http://www.w3.org/XML/1998/namespace> \n",
    "PREFIX xsd: <http://www.w3.org/2001/XMLSchema#> \n",
    "\n",
    "SELECT ?_s \n",
    "FROM <http://mdlab.slis.tsukuba.ac.jp/disaster/tmp_vocabulary/5W1H/graph>\n",
    "WHERE {\n",
    "      ?_s p:what ?_teikyo.\n",
    "      ?_s rdfs:label ?s .\n",
    "      ?_teikyo rdfs:label ?o .\n",
    "      FILTER(REGEX(?o, '提供'))\n",
    "} group by ?s\n",
    "\"\"\")\n",
    "sparql.setReturnFormat(JSON)\n",
    "distance_level = sparql.query().convert()"
   ]
  },
  {
   "cell_type": "code",
   "execution_count": 19,
   "metadata": {
    "collapsed": false
   },
   "outputs": [
    {
     "name": "stdout",
     "output_type": "stream",
     "text": [
      "http://mdlab.slis.tsukuba.ac.jp/disaster/tmp_vocabulary/5W1H/Resource/%E5%87%BA%E5%85%89%E8%88%88%E7%94%A3%E6%A0%AA%E5%BC%8F%E4%BC%9A%E7%A4%BE%E3%81%8B%E3%82%89%E3%81%AE%E7%87%83%E6%96%99%E7%B5%A6%E6%B2%B9%E5%88%B8%E3%81%AE%E6%8F%90%E4%BE%9B%E3%81%AB%E3%81%A4%E3%81%84%E3%81%A6\n",
      "http://mdlab.slis.tsukuba.ac.jp/disaster/tmp_vocabulary/5W1H/Resource/%E5%AD%A6%E6%A0%A1%E6%96%BD%E8%A8%AD%E3%81%AE%E3%82%AC%E3%83%A9%E3%82%B9%E7%94%A8%E9%A3%9B%E6%95%A3%E9%98%B2%E6%AD%A2%E3%83%95%E3%82%A3%E3%83%AB%E3%83%A0%E3%81%AE%E7%84%A1%E5%84%9F%E6%8F%90%E4%BE%9B%E3%81%AB%E3%81%A4%E3%81%84%E3%81%A6\n",
      "http://mdlab.slis.tsukuba.ac.jp/disaster/tmp_vocabulary/5W1H/Resource/%E7%A6%8F%E5%B3%B6%E5%B7%A5%E6%A5%AD%E6%A0%AA%E5%BC%8F%E4%BC%9A%E7%A4%BE%E3%81%8B%E3%82%89%E3%81%AE%E5%86%B7%E5%87%8D%E5%86%B7%E8%94%B5%E5%BA%AB%E3%81%AE%E6%8F%90%E4%BE%9B%E3%81%AB%E3%81%A4%E3%81%84%E3%81%A6\n",
      "http://mdlab.slis.tsukuba.ac.jp/disaster/tmp_vocabulary/5W1H/Resource/%E6%9D%B1%E6%97%A5%E6%9C%AC%E5%A4%A7%E9%9C%87%E7%81%BD%E8%A2%AB%E7%81%BD%E5%9C%B0%E3%81%B8%E3%81%AE%E5%AD%A6%E6%A0%A1%E7%94%A8%E5%AE%B6%E5%85%B7%E3%81%AE%E6%8F%90%E4%BE%9B%E3%81%AB%E3%81%A4%E3%81%84%E3%81%A6\n"
     ]
    }
   ],
   "source": [
    "for result in distance_level[\"results\"][\"bindings\"]:\n",
    "    print(result['_s'][\"value\"])"
   ]
  },
  {
   "cell_type": "code",
   "execution_count": 27,
   "metadata": {
    "collapsed": false
   },
   "outputs": [],
   "source": [
    "sparql.setQuery(\"\"\"\n",
    "PREFIX p: <http://mdlab.slis.tsukuba.ac.jp/disaster/tmp_vocabulary/5W1H/Property/> \n",
    "PREFIX rdf: <http://www.w3.org/1999/02/22-rdf-syntax-ns#> \n",
    "PREFIX rdfs: <http://www.w3.org/2000/01/rdf-schema#> \n",
    "PREFIX xml: <http://www.w3.org/XML/1998/namespace> \n",
    "PREFIX xsd: <http://www.w3.org/2001/XMLSchema#> \n",
    "\n",
    "SELECT ?who ?what\n",
    "FROM <http://mdlab.slis.tsukuba.ac.jp/disaster/tmp_vocabulary/5W1H/graph>\n",
    "WHERE {\n",
    "  ?_s p:who ?_who .\n",
    "  ?_s p:what ?_what.\n",
    "  ?_who rdfs:label ?who .\n",
    "  ?_what rdfs:label ?what .\n",
    "  {\n",
    "    SELECT ?_s\n",
    "    WHERE {\n",
    "      ?_s p:what ?_teikyo.\n",
    "      ?_teikyo rdfs:label ?o .\n",
    "      FILTER(REGEX(?o, '提供'))\n",
    "    }\n",
    "  }\n",
    "}\n",
    "\"\"\")\n",
    "sparql.setReturnFormat(JSON)\n",
    "distance_level = sparql.query().convert()"
   ]
  },
  {
   "cell_type": "code",
   "execution_count": 28,
   "metadata": {
    "collapsed": false
   },
   "outputs": [
    {
     "name": "stdout",
     "output_type": "stream",
     "text": [
      "福島工業株式会社 が 冷凍冷蔵庫 を提供した。 \n",
      "被災地 が 家具 を提供した。 \n",
      "被災地 が 東日本大震災 を提供した。 \n",
      "出光興産株式会社 が 燃料給油券 を提供した。 \n"
     ]
    }
   ],
   "source": [
    "for result in distance_level[\"results\"][\"bindings\"]:\n",
    "    if result['what'][\"value\"] != '提供':\n",
    "        print(result['who'][\"value\"]+' が '+result['what'][\"value\"]+' を提供した。 ')"
   ]
  },
  {
   "cell_type": "code",
   "execution_count": 29,
   "metadata": {
    "collapsed": true
   },
   "outputs": [],
   "source": [
    "import pandas as pd"
   ]
  },
  {
   "cell_type": "code",
   "execution_count": 35,
   "metadata": {
    "collapsed": false
   },
   "outputs": [
    {
     "name": "stdout",
     "output_type": "stream",
     "text": [
      "福島工業株式会社 が 冷凍冷蔵庫 を提供した。 \n",
      "被災地 が 家具 を提供した。 \n",
      "被災地 が 東日本大震災 を提供した。 \n",
      "出光興産株式会社 が 燃料給油券 を提供した。 \n"
     ]
    },
    {
     "data": {
      "text/html": [
       "<div>\n",
       "<table border=\"1\" class=\"dataframe\">\n",
       "  <thead>\n",
       "    <tr style=\"text-align: right;\">\n",
       "      <th></th>\n",
       "      <th>who</th>\n",
       "      <th>0</th>\n",
       "      <th>what</th>\n",
       "      <th>1</th>\n",
       "      <th>是非</th>\n",
       "    </tr>\n",
       "  </thead>\n",
       "  <tbody>\n",
       "    <tr>\n",
       "      <th>0</th>\n",
       "      <td>福島工業株式会社</td>\n",
       "      <td>が</td>\n",
       "      <td>冷凍冷蔵庫</td>\n",
       "      <td>を提供した。</td>\n",
       "      <td></td>\n",
       "    </tr>\n",
       "    <tr>\n",
       "      <th>1</th>\n",
       "      <td>被災地</td>\n",
       "      <td>が</td>\n",
       "      <td>家具</td>\n",
       "      <td>を提供した。</td>\n",
       "      <td></td>\n",
       "    </tr>\n",
       "    <tr>\n",
       "      <th>2</th>\n",
       "      <td>被災地</td>\n",
       "      <td>が</td>\n",
       "      <td>東日本大震災</td>\n",
       "      <td>を提供した。</td>\n",
       "      <td></td>\n",
       "    </tr>\n",
       "    <tr>\n",
       "      <th>3</th>\n",
       "      <td>出光興産株式会社</td>\n",
       "      <td>が</td>\n",
       "      <td>燃料給油券</td>\n",
       "      <td>を提供した。</td>\n",
       "      <td></td>\n",
       "    </tr>\n",
       "  </tbody>\n",
       "</table>\n",
       "</div>"
      ],
      "text/plain": [
       "        who  0    what       1 是非\n",
       "0  福島工業株式会社  が   冷凍冷蔵庫  を提供した。   \n",
       "1       被災地  が      家具  を提供した。   \n",
       "2       被災地  が  東日本大震災  を提供した。   \n",
       "3  出光興産株式会社  が   燃料給油券  を提供した。   "
      ]
     },
     "execution_count": 35,
     "metadata": {},
     "output_type": "execute_result"
    }
   ],
   "source": [
    "list_1 = []\n",
    "for result in distance_level[\"results\"][\"bindings\"]:\n",
    "    if result['what'][\"value\"] != '提供':\n",
    "        print(result['who'][\"value\"]+' が '+result['what'][\"value\"]+' を提供した。 ')\n",
    "        list_tmp = [result['who'][\"value\"],'が', result['what'][\"value\"], 'を提供した。','']\n",
    "        list_1.append(list_tmp)\n",
    "        \n",
    "df = pd.DataFrame(list_1)\n",
    "df.columns = ['who','0', 'what','1', '是非']\n",
    "df"
   ]
  },
  {
   "cell_type": "code",
   "execution_count": null,
   "metadata": {
    "collapsed": true
   },
   "outputs": [],
   "source": []
  }
 ],
 "metadata": {
  "kernelspec": {
   "display_name": "Python [Root]",
   "language": "python",
   "name": "Python [Root]"
  },
  "language_info": {
   "codemirror_mode": {
    "name": "ipython",
    "version": 3
   },
   "file_extension": ".py",
   "mimetype": "text/x-python",
   "name": "python",
   "nbconvert_exporter": "python",
   "pygments_lexer": "ipython3",
   "version": "3.5.2"
  }
 },
 "nbformat": 4,
 "nbformat_minor": 0
}
